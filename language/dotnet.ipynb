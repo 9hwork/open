{
 "metadata": {
  "language_info": {
   "codemirror_mode": {
    "name": "ipython",
    "version": 3
   },
   "file_extension": ".py",
   "mimetype": "text/x-python",
   "name": "python",
   "nbconvert_exporter": "python",
   "pygments_lexer": "ipython3",
   "version": 3
  },
  "orig_nbformat": 2,
  "kernelspec": {
   "name": ".net-csharp",
   "display_name": ".NET (C#)",
   "language": "C#"
  }
 },
 "nbformat": 4,
 "nbformat_minor": 2,
 "cells": [
  {
   "source": [
    "# 说明\n",
    "```\n",
    "python -m pip install jupyterlab==3 -i https://mirrors.aliyun.com/pypi/simple/\n",
    "python -m pip install jupyterlab-language-pack-zh-CN -i https://mirrors.aliyun.com/pypi/simple/\n",
    "https://github.com/dotnet/interactive/blob/main/docs/NotebooksLocalExperience.md\n",
    "dotnet tool install -g --add-source \"https://pkgs.dev.azure.com/dnceng/public/_packaging/dotnet-tools/nuget/v3/index.json\" Microsoft.dotnet-interactive\n",
    "# 如果安装报错，可以不要 --add-source\n",
    "dotnet tool list -g\n",
    "dotnet tool uninstall microsoft.dotnet-interactive -g\n",
    "```\n",
    "dotnet interactive  lab 的扩展名是.dib\n",
    "Microsoft.DotNet.Interactive.ExtensionLab\n"
   ],
   "cell_type": "markdown",
   "metadata": {}
  },
  {
   "cell_type": "code",
   "execution_count": 5,
   "metadata": {},
   "outputs": [
    {
     "output_type": "stream",
     "name": "stdout",
     "text": [
      "hello\n"
     ]
    }
   ],
   "source": [
    "Console.WriteLine(\"hello\");"
   ]
  },
  {
   "cell_type": "code",
   "execution_count": null,
   "metadata": {},
   "outputs": [],
   "source": []
  }
 ]
}