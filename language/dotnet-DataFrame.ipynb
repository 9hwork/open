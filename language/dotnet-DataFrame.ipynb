{
 "cells": [
  {
   "cell_type": "markdown",
   "metadata": {},
   "source": [
    "[this doc on github](https://github.com/dotnet/interactive/tree/master/samples/notebooks/csharp/Samples)\n",
    "\n"
   ]
  },
  {
   "cell_type": "code",
   "execution_count": 1,
   "metadata": {},
   "outputs": [
    {
     "output_type": "display_data",
     "data": {
      "text/html": "\r\n<div>\r\n    <div id='dotnet-interactive-this-cell-125784.Microsoft.DotNet.Interactive.Http.HttpPort' style='display: none'>\r\n        The below script needs to be able to find the current output cell; this is an easy method to get it.\r\n    </div>\r\n    <script type='text/javascript'>\r\nasync function probeAddresses(probingAddresses) {\r\n    function timeout(ms, promise) {\r\n        return new Promise(function (resolve, reject) {\r\n            setTimeout(function () {\r\n                reject(new Error('timeout'))\r\n            }, ms)\r\n            promise.then(resolve, reject)\r\n        })\r\n    }\r\n\r\n    if (Array.isArray(probingAddresses)) {\r\n        for (let i = 0; i < probingAddresses.length; i++) {\r\n\r\n            let rootUrl = probingAddresses[i];\r\n\r\n            if (!rootUrl.endsWith('/')) {\r\n                rootUrl = `${rootUrl}/`;\r\n            }\r\n\r\n            try {\r\n                let response = await timeout(1000, fetch(`${rootUrl}discovery`, {\r\n                    method: 'POST',\r\n                    cache: 'no-cache',\r\n                    mode: 'cors',\r\n                    timeout: 1000,\r\n                    headers: {\r\n                        'Content-Type': 'text/plain'\r\n                    },\r\n                    body: probingAddresses[i]\r\n                }));\r\n\r\n                if (response.status == 200) {\r\n                    return rootUrl;\r\n                }\r\n            }\r\n            catch (e) { }\r\n        }\r\n    }\r\n}\r\n\r\nfunction loadDotnetInteractiveApi() {\r\n    probeAddresses([\"http://172.28.224.1:1003/\", \"http://172.21.32.1:1003/\", \"http://192.168.1.231:1003/\", \"http://192.168.1.190:1003/\", \"http://192.168.245.1:1003/\", \"http://192.168.130.1:1003/\", \"http://10.0.2.2:1003/\", \"http://127.0.0.1:1003/\"])\r\n        .then((root) => {\r\n        // use probing to find host url and api resources\r\n        // load interactive helpers and language services\r\n        let dotnetInteractiveRequire = require.config({\r\n        context: '125784.Microsoft.DotNet.Interactive.Http.HttpPort',\r\n                paths:\r\n            {\r\n                'dotnet-interactive': `${root}resources`\r\n                }\r\n        }) || require;\r\n\r\n            window.dotnetInteractiveRequire = dotnetInteractiveRequire;\r\n\r\n            window.configureRequireFromExtension = function(extensionName, extensionCacheBuster) {\r\n                let paths = {};\r\n                paths[extensionName] = `${root}extensions/${extensionName}/resources/`;\r\n                \r\n                let internalRequire = require.config({\r\n                    context: extensionCacheBuster,\r\n                    paths: paths,\r\n                    urlArgs: `cacheBuster=${extensionCacheBuster}`\r\n                    }) || require;\r\n\r\n                return internalRequire\r\n            };\r\n        \r\n            dotnetInteractiveRequire([\r\n                    'dotnet-interactive/dotnet-interactive'\r\n                ],\r\n                function (dotnet) {\r\n                    dotnet.init(window);\r\n                },\r\n                function (error) {\r\n                    console.log(error);\r\n                }\r\n            );\r\n        })\r\n        .catch(error => {console.log(error);});\r\n    }\r\n\r\n// ensure `require` is available globally\r\nif ((typeof(require) !==  typeof(Function)) || (typeof(require.config) !== typeof(Function))) {\r\n    let require_script = document.createElement('script');\r\n    require_script.setAttribute('src', 'https://cdnjs.cloudflare.com/ajax/libs/require.js/2.3.6/require.min.js');\r\n    require_script.setAttribute('type', 'text/javascript');\r\n    \r\n    \r\n    require_script.onload = function() {\r\n        loadDotnetInteractiveApi();\r\n    };\r\n\r\n    document.getElementsByTagName('head')[0].appendChild(require_script);\r\n}\r\nelse {\r\n    loadDotnetInteractiveApi();\r\n}\r\n\r\n    </script>\r\n</div>"
     },
     "metadata": {}
    },
    {
     "output_type": "display_data",
     "data": {
      "text/plain": "Installing package Microsoft.Data.Analysis, version 0.2.0..."
     },
     "metadata": {}
    }
   ],
   "source": [
    "#r \"nuget:Microsoft.Data.Analysis,0.2.0\"\n",
    "using Microsoft.Data.Analysis;"
   ]
  },
  {
   "cell_type": "code",
   "execution_count": null,
   "metadata": {},
   "outputs": [],
   "source": [
    "PrimitiveDataFrameColumn<DateTime> dateTimes = new PrimitiveDataFrameColumn<DateTime>(\"DateTimes\"); // Default length is 0.\n",
    "PrimitiveDataFrameColumn<int> ints = new PrimitiveDataFrameColumn<int>(\"Ints\", 3); // Makes a column of length 3. Filled with nulls initially\n",
    "StringDataFrameColumn strings = new StringDataFrameColumn(\"Strings\", 3); // Makes a column of length 3. Filled with nulls initially"
   ]
  },
  {
   "cell_type": "code",
   "execution_count": null,
   "metadata": {},
   "outputs": [],
   "source": [
    "// Append 3 values to dateTimes\n",
    "dateTimes.Append(DateTime.Parse(\"2019/01/01\"));\n",
    "dateTimes.Append(DateTime.Parse(\"2019/01/01\"));\n",
    "dateTimes.Append(DateTime.Parse(\"2019/01/02\"));"
   ]
  },
  {
   "cell_type": "code",
   "execution_count": null,
   "metadata": {},
   "outputs": [],
   "source": [
    "DataFrame df = new DataFrame(dateTimes, ints, strings ); // This will throw if the columns are of different lengths"
   ]
  },
  {
   "cell_type": "code",
   "execution_count": null,
   "metadata": {},
   "outputs": [],
   "source": [
    "df"
   ]
  },
  {
   "cell_type": "code",
   "execution_count": null,
   "metadata": {},
   "outputs": [],
   "source": [
    "using Microsoft.AspNetCore.Html;\n",
    "Formatter.Register<DataFrame>((df, writer) =>\n",
    "{\n",
    "    var headers = new List<IHtmlContent>();\n",
    "    headers.Add(th(i(\"index\")));\n",
    "    headers.AddRange(df.Columns.Select(c => (IHtmlContent) th(c.Name)));\n",
    "    var rows = new List<List<IHtmlContent>>();\n",
    "    var take = 20;\n",
    "    for (var i = 0; i < Math.Min(take, df.Rows.Count); i++)\n",
    "    {\n",
    "        var cells = new List<IHtmlContent>();\n",
    "        cells.Add(td(i));\n",
    "        foreach (var obj in df.Rows[i])\n",
    "        {\n",
    "            cells.Add(td(obj));\n",
    "        }\n",
    "        rows.Add(cells);\n",
    "    }\n",
    "    \n",
    "    var t = table(\n",
    "        thead(\n",
    "            headers),\n",
    "        tbody(\n",
    "            rows.Select(\n",
    "                r => tr(r))));\n",
    "    \n",
    "    writer.Write(t);\n",
    "}, \"text/html\");"
   ]
  },
  {
   "cell_type": "code",
   "execution_count": null,
   "metadata": {},
   "outputs": [],
   "source": [
    "df"
   ]
  },
  {
   "cell_type": "code",
   "execution_count": null,
   "metadata": {},
   "outputs": [],
   "source": [
    "// To change a value directly through df\n",
    "df[0, 1] = 10; // 0 is the rowIndex, and 1 is the columnIndex. This sets the 0th value in the Ints columns to 10\n",
    "df"
   ]
  },
  {
   "cell_type": "code",
   "execution_count": null,
   "metadata": {},
   "outputs": [],
   "source": [
    "// Modify ints and strings columns by indexing\n",
    "ints[1] = 100;\n",
    "strings[1] = \"Foo!\";\n",
    "df"
   ]
  },
  {
   "cell_type": "code",
   "execution_count": null,
   "metadata": {},
   "outputs": [],
   "source": [
    "// Indexing can throw when types don't match.\n",
    "// ints[1] = \"this will throw because I am a string\";  \n",
    "// Info can be used to figure out the type of data in a column. \n",
    "df.Info()"
   ]
  },
  {
   "cell_type": "code",
   "execution_count": null,
   "metadata": {},
   "outputs": [],
   "source": [
    "// Add 5 to ints through the DataFrame\n",
    "df[\"Ints\"].Add(5, inPlace: true);\n",
    "df"
   ]
  },
  {
   "cell_type": "code",
   "execution_count": null,
   "metadata": {},
   "outputs": [],
   "source": [
    "// We can also use binary operators. Binary operators produce a copy, so assign it back to our Ints column \n",
    "df[\"Ints\"] = (ints / 5) * 100;\n",
    "df"
   ]
  },
  {
   "cell_type": "code",
   "execution_count": null,
   "metadata": {},
   "outputs": [],
   "source": [
    "// Fill nulls in our columns, if any. Ints[2], Strings[0] and Strings[1] are null\n",
    "df[\"Ints\"].FillNulls(-1, inPlace: true);\n",
    "df[\"Strings\"].FillNulls(\"Bar\", inPlace: true);\n",
    "df"
   ]
  },
  {
   "cell_type": "code",
   "execution_count": null,
   "metadata": {},
   "outputs": [],
   "source": [
    "// To inspect the first row\n",
    "DataFrameRow row0 = df.Rows[0];\n",
    "row0"
   ]
  },
  {
   "cell_type": "code",
   "execution_count": null,
   "metadata": {},
   "outputs": [],
   "source": [
    "using Microsoft.AspNetCore.Html;\n",
    "Formatter.Register<DataFrameRow>((dataFrameRow, writer) =>\n",
    "{\n",
    "    var cells = new List<IHtmlContent>();\n",
    "    cells.Add(td(i));\n",
    "    foreach (var obj in dataFrameRow)\n",
    "    {\n",
    "        cells.Add(td(obj));\n",
    "    }\n",
    "    \n",
    "    var t = table(\n",
    "        tbody(\n",
    "            cells));\n",
    "    \n",
    "    writer.Write(t);\n",
    "}, \"text/html\");"
   ]
  },
  {
   "cell_type": "code",
   "execution_count": null,
   "metadata": {},
   "outputs": [],
   "source": [
    "row0"
   ]
  },
  {
   "cell_type": "code",
   "execution_count": null,
   "metadata": {},
   "outputs": [],
   "source": [
    "// Filter rows based on equality\n",
    "PrimitiveDataFrameColumn<bool> boolFilter = df[\"Strings\"].ElementwiseEquals(\"Bar\");\n",
    "boolFilter"
   ]
  },
  {
   "cell_type": "code",
   "execution_count": null,
   "metadata": {},
   "outputs": [],
   "source": [
    "DataFrame filtered = df.Filter(boolFilter);\n",
    "filtered"
   ]
  },
  {
   "cell_type": "code",
   "execution_count": null,
   "metadata": {},
   "outputs": [],
   "source": [
    "// Sort our dataframe using the Ints column\n",
    "DataFrame sorted = df.Sort(\"Ints\");\n",
    "sorted"
   ]
  },
  {
   "cell_type": "code",
   "execution_count": null,
   "metadata": {},
   "outputs": [],
   "source": [
    "// GroupBy \n",
    "GroupBy groupBy = df.GroupBy(\"DateTimes\");\n",
    "// Count of values in each group\n",
    "DataFrame groupCounts = groupBy.Count();\n",
    "groupCounts"
   ]
  },
  {
   "cell_type": "code",
   "execution_count": null,
   "metadata": {},
   "outputs": [],
   "source": [
    "// Alternatively find the sum of the values in each group in Ints\n",
    "DataFrame intsGroupSum = groupBy.Sum(\"Ints\");\n",
    "intsGroupSum"
   ]
  },
  {
   "cell_type": "code",
   "execution_count": null,
   "metadata": {},
   "outputs": [],
   "source": [
    "using XPlot.Plotly;\n",
    "using System.Linq;"
   ]
  },
  {
   "cell_type": "code",
   "execution_count": null,
   "metadata": {},
   "outputs": [],
   "source": [
    "#r \"nuget:MathNet.Numerics,4.9.0\""
   ]
  },
  {
   "cell_type": "code",
   "execution_count": null,
   "metadata": {},
   "outputs": [],
   "source": [
    "using MathNet.Numerics.Distributions;\n",
    "double mean = 0;\n",
    "double stdDev = 0.1;\n",
    "\n",
    "MathNet.Numerics.Distributions.Normal normalDist = new Normal(mean, stdDev);"
   ]
  },
  {
   "cell_type": "code",
   "execution_count": null,
   "metadata": {},
   "outputs": [],
   "source": [
    "PrimitiveDataFrameColumn<double> doubles = new PrimitiveDataFrameColumn<double>(\"Normal Distribution\", normalDist.Samples().Take(1000));\n",
    "display(Chart.Plot(\n",
    "    new Graph.Histogram()\n",
    "    {\n",
    "        x = doubles,\n",
    "        nbinsx = 30\n",
    "    }\n",
    "));\n"
   ]
  }
 ],
 "metadata": {
  "kernelspec": {
   "display_name": ".NET (C#)",
   "language": "C#",
   "name": ".net-csharp"
  },
  "language_info": {
   "file_extension": ".cs",
   "mimetype": "text/x-csharp",
   "name": "C#",
   "pygments_lexer": "csharp",
   "version": "8.0"
  }
 },
 "nbformat": 4,
 "nbformat_minor": 2
}